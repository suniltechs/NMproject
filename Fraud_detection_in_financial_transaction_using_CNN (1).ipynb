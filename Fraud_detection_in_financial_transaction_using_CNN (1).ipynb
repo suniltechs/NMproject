{
  "cells": [
    {
      "cell_type": "code",
      "execution_count": null,
      "metadata": {
        "id": "Lx604ugTtx5D"
      },
      "outputs": [],
      "source": [
        "import pandas as pd\n",
        "import numpy as np\n",
        "import seaborn as sns\n",
        "import matplotlib.pyplot as plt\n",
        "from sklearn.metrics import accuracy_score, classification_report\n",
        "from sklearn.neighbors import KNeighborsClassifier\n",
        "from xgboost import XGBClassifier"
      ]
    },
    {
      "cell_type": "code",
      "execution_count": null,
      "metadata": {
        "id": "yP0zQd7It4_g"
      },
      "outputs": [],
      "source": [
        "df=pd.read_csv('bs140513_032310.csv')"
      ]
    },
    {
      "cell_type": "code",
      "execution_count": null,
      "metadata": {
        "colab": {
          "base_uri": "https://localhost:8080/",
          "height": 206
        },
        "id": "QaWARaGOu5Ku",
        "outputId": "719fe413-7e76-48fb-b071-73f021b2caa9"
      },
      "outputs": [
        {
          "data": {
            "text/html": [
              "<div>\n",
              "<style scoped>\n",
              "    .dataframe tbody tr th:only-of-type {\n",
              "        vertical-align: middle;\n",
              "    }\n",
              "\n",
              "    .dataframe tbody tr th {\n",
              "        vertical-align: top;\n",
              "    }\n",
              "\n",
              "    .dataframe thead th {\n",
              "        text-align: right;\n",
              "    }\n",
              "</style>\n",
              "<table border=\"1\" class=\"dataframe\">\n",
              "  <thead>\n",
              "    <tr style=\"text-align: right;\">\n",
              "      <th></th>\n",
              "      <th>step</th>\n",
              "      <th>customer</th>\n",
              "      <th>age</th>\n",
              "      <th>gender</th>\n",
              "      <th>zipcodeOri</th>\n",
              "      <th>merchant</th>\n",
              "      <th>zipMerchant</th>\n",
              "      <th>category</th>\n",
              "      <th>amount</th>\n",
              "      <th>fraud</th>\n",
              "    </tr>\n",
              "  </thead>\n",
              "  <tbody>\n",
              "    <tr>\n",
              "      <th>0</th>\n",
              "      <td>0</td>\n",
              "      <td>'C1093826151'</td>\n",
              "      <td>'4'</td>\n",
              "      <td>'M'</td>\n",
              "      <td>'28007'</td>\n",
              "      <td>'M348934600'</td>\n",
              "      <td>'28007'</td>\n",
              "      <td>'es_transportation'</td>\n",
              "      <td>4.55</td>\n",
              "      <td>0</td>\n",
              "    </tr>\n",
              "    <tr>\n",
              "      <th>1</th>\n",
              "      <td>0</td>\n",
              "      <td>'C352968107'</td>\n",
              "      <td>'2'</td>\n",
              "      <td>'M'</td>\n",
              "      <td>'28007'</td>\n",
              "      <td>'M348934600'</td>\n",
              "      <td>'28007'</td>\n",
              "      <td>'es_transportation'</td>\n",
              "      <td>39.68</td>\n",
              "      <td>0</td>\n",
              "    </tr>\n",
              "    <tr>\n",
              "      <th>2</th>\n",
              "      <td>0</td>\n",
              "      <td>'C2054744914'</td>\n",
              "      <td>'4'</td>\n",
              "      <td>'F'</td>\n",
              "      <td>'28007'</td>\n",
              "      <td>'M1823072687'</td>\n",
              "      <td>'28007'</td>\n",
              "      <td>'es_transportation'</td>\n",
              "      <td>26.89</td>\n",
              "      <td>0</td>\n",
              "    </tr>\n",
              "    <tr>\n",
              "      <th>3</th>\n",
              "      <td>0</td>\n",
              "      <td>'C1760612790'</td>\n",
              "      <td>'3'</td>\n",
              "      <td>'M'</td>\n",
              "      <td>'28007'</td>\n",
              "      <td>'M348934600'</td>\n",
              "      <td>'28007'</td>\n",
              "      <td>'es_transportation'</td>\n",
              "      <td>17.25</td>\n",
              "      <td>0</td>\n",
              "    </tr>\n",
              "    <tr>\n",
              "      <th>4</th>\n",
              "      <td>0</td>\n",
              "      <td>'C757503768'</td>\n",
              "      <td>'5'</td>\n",
              "      <td>'M'</td>\n",
              "      <td>'28007'</td>\n",
              "      <td>'M348934600'</td>\n",
              "      <td>'28007'</td>\n",
              "      <td>'es_transportation'</td>\n",
              "      <td>35.72</td>\n",
              "      <td>0</td>\n",
              "    </tr>\n",
              "  </tbody>\n",
              "</table>\n",
              "</div>"
            ],
            "text/plain": [
              "   step       customer  age gender zipcodeOri       merchant zipMerchant  \\\n",
              "0     0  'C1093826151'  '4'    'M'    '28007'   'M348934600'     '28007'   \n",
              "1     0   'C352968107'  '2'    'M'    '28007'   'M348934600'     '28007'   \n",
              "2     0  'C2054744914'  '4'    'F'    '28007'  'M1823072687'     '28007'   \n",
              "3     0  'C1760612790'  '3'    'M'    '28007'   'M348934600'     '28007'   \n",
              "4     0   'C757503768'  '5'    'M'    '28007'   'M348934600'     '28007'   \n",
              "\n",
              "              category  amount  fraud  \n",
              "0  'es_transportation'    4.55      0  \n",
              "1  'es_transportation'   39.68      0  \n",
              "2  'es_transportation'   26.89      0  \n",
              "3  'es_transportation'   17.25      0  \n",
              "4  'es_transportation'   35.72      0  "
            ]
          },
          "execution_count": 3,
          "metadata": {},
          "output_type": "execute_result"
        }
      ],
      "source": [
        "df.head()"
      ]
    },
    {
      "cell_type": "code",
      "execution_count": null,
      "metadata": {
        "colab": {
          "base_uri": "https://localhost:8080/"
        },
        "id": "RijlDLWBuKvj",
        "outputId": "b68b37e0-ae2e-4590-de4c-395e80b511cd"
      },
      "outputs": [
        {
          "data": {
            "text/plain": [
              "(594643, 10)"
            ]
          },
          "execution_count": 4,
          "metadata": {},
          "output_type": "execute_result"
        }
      ],
      "source": [
        "df.shape"
      ]
    },
    {
      "cell_type": "code",
      "execution_count": null,
      "metadata": {
        "colab": {
          "base_uri": "https://localhost:8080/",
          "height": 300
        },
        "id": "uew7UCE0uXYu",
        "outputId": "4bd48e1e-8830-481f-bd03-d13df7885aa3"
      },
      "outputs": [
        {
          "data": {
            "text/html": [
              "<div>\n",
              "<style scoped>\n",
              "    .dataframe tbody tr th:only-of-type {\n",
              "        vertical-align: middle;\n",
              "    }\n",
              "\n",
              "    .dataframe tbody tr th {\n",
              "        vertical-align: top;\n",
              "    }\n",
              "\n",
              "    .dataframe thead th {\n",
              "        text-align: right;\n",
              "    }\n",
              "</style>\n",
              "<table border=\"1\" class=\"dataframe\">\n",
              "  <thead>\n",
              "    <tr style=\"text-align: right;\">\n",
              "      <th></th>\n",
              "      <th>step</th>\n",
              "      <th>amount</th>\n",
              "      <th>fraud</th>\n",
              "    </tr>\n",
              "  </thead>\n",
              "  <tbody>\n",
              "    <tr>\n",
              "      <th>count</th>\n",
              "      <td>594643.000000</td>\n",
              "      <td>594643.000000</td>\n",
              "      <td>594643.000000</td>\n",
              "    </tr>\n",
              "    <tr>\n",
              "      <th>mean</th>\n",
              "      <td>94.986827</td>\n",
              "      <td>37.890135</td>\n",
              "      <td>0.012108</td>\n",
              "    </tr>\n",
              "    <tr>\n",
              "      <th>std</th>\n",
              "      <td>51.053632</td>\n",
              "      <td>111.402831</td>\n",
              "      <td>0.109369</td>\n",
              "    </tr>\n",
              "    <tr>\n",
              "      <th>min</th>\n",
              "      <td>0.000000</td>\n",
              "      <td>0.000000</td>\n",
              "      <td>0.000000</td>\n",
              "    </tr>\n",
              "    <tr>\n",
              "      <th>25%</th>\n",
              "      <td>52.000000</td>\n",
              "      <td>13.740000</td>\n",
              "      <td>0.000000</td>\n",
              "    </tr>\n",
              "    <tr>\n",
              "      <th>50%</th>\n",
              "      <td>97.000000</td>\n",
              "      <td>26.900000</td>\n",
              "      <td>0.000000</td>\n",
              "    </tr>\n",
              "    <tr>\n",
              "      <th>75%</th>\n",
              "      <td>139.000000</td>\n",
              "      <td>42.540000</td>\n",
              "      <td>0.000000</td>\n",
              "    </tr>\n",
              "    <tr>\n",
              "      <th>max</th>\n",
              "      <td>179.000000</td>\n",
              "      <td>8329.960000</td>\n",
              "      <td>1.000000</td>\n",
              "    </tr>\n",
              "  </tbody>\n",
              "</table>\n",
              "</div>"
            ],
            "text/plain": [
              "                step         amount          fraud\n",
              "count  594643.000000  594643.000000  594643.000000\n",
              "mean       94.986827      37.890135       0.012108\n",
              "std        51.053632     111.402831       0.109369\n",
              "min         0.000000       0.000000       0.000000\n",
              "25%        52.000000      13.740000       0.000000\n",
              "50%        97.000000      26.900000       0.000000\n",
              "75%       139.000000      42.540000       0.000000\n",
              "max       179.000000    8329.960000       1.000000"
            ]
          },
          "execution_count": 5,
          "metadata": {},
          "output_type": "execute_result"
        }
      ],
      "source": [
        "df.describe()"
      ]
    },
    {
      "cell_type": "code",
      "execution_count": null,
      "metadata": {
        "colab": {
          "base_uri": "https://localhost:8080/"
        },
        "id": "3dZGpNRjuXbW",
        "outputId": "b286fabb-79e1-4833-c25f-9f7ffab78825"
      },
      "outputs": [
        {
          "name": "stdout",
          "output_type": "stream",
          "text": [
            "<class 'pandas.core.frame.DataFrame'>\n",
            "RangeIndex: 594643 entries, 0 to 594642\n",
            "Data columns (total 10 columns):\n",
            " #   Column       Non-Null Count   Dtype  \n",
            "---  ------       --------------   -----  \n",
            " 0   step         594643 non-null  int64  \n",
            " 1   customer     594643 non-null  object \n",
            " 2   age          594643 non-null  object \n",
            " 3   gender       594643 non-null  object \n",
            " 4   zipcodeOri   594643 non-null  object \n",
            " 5   merchant     594643 non-null  object \n",
            " 6   zipMerchant  594643 non-null  object \n",
            " 7   category     594643 non-null  object \n",
            " 8   amount       594643 non-null  float64\n",
            " 9   fraud        594643 non-null  int64  \n",
            "dtypes: float64(1), int64(2), object(7)\n",
            "memory usage: 45.4+ MB\n"
          ]
        }
      ],
      "source": [
        "df.info()"
      ]
    },
    {
      "cell_type": "code",
      "execution_count": null,
      "metadata": {
        "colab": {
          "base_uri": "https://localhost:8080/",
          "height": 206
        },
        "id": "EyDPJeTvuXe2",
        "outputId": "20579a67-be54-4db9-d77a-ac0a54b42826"
      },
      "outputs": [
        {
          "data": {
            "text/html": [
              "<div>\n",
              "<style scoped>\n",
              "    .dataframe tbody tr th:only-of-type {\n",
              "        vertical-align: middle;\n",
              "    }\n",
              "\n",
              "    .dataframe tbody tr th {\n",
              "        vertical-align: top;\n",
              "    }\n",
              "\n",
              "    .dataframe thead th {\n",
              "        text-align: right;\n",
              "    }\n",
              "</style>\n",
              "<table border=\"1\" class=\"dataframe\">\n",
              "  <thead>\n",
              "    <tr style=\"text-align: right;\">\n",
              "      <th></th>\n",
              "      <th>step</th>\n",
              "      <th>customer</th>\n",
              "      <th>age</th>\n",
              "      <th>gender</th>\n",
              "      <th>zipcodeOri</th>\n",
              "      <th>merchant</th>\n",
              "      <th>zipMerchant</th>\n",
              "      <th>category</th>\n",
              "      <th>amount</th>\n",
              "      <th>fraud</th>\n",
              "    </tr>\n",
              "  </thead>\n",
              "  <tbody>\n",
              "    <tr>\n",
              "      <th>0</th>\n",
              "      <td>0</td>\n",
              "      <td>'C1093826151'</td>\n",
              "      <td>'4'</td>\n",
              "      <td>'M'</td>\n",
              "      <td>'28007'</td>\n",
              "      <td>'M348934600'</td>\n",
              "      <td>'28007'</td>\n",
              "      <td>'es_transportation'</td>\n",
              "      <td>4.55</td>\n",
              "      <td>0</td>\n",
              "    </tr>\n",
              "    <tr>\n",
              "      <th>1</th>\n",
              "      <td>0</td>\n",
              "      <td>'C352968107'</td>\n",
              "      <td>'2'</td>\n",
              "      <td>'M'</td>\n",
              "      <td>'28007'</td>\n",
              "      <td>'M348934600'</td>\n",
              "      <td>'28007'</td>\n",
              "      <td>'es_transportation'</td>\n",
              "      <td>39.68</td>\n",
              "      <td>0</td>\n",
              "    </tr>\n",
              "    <tr>\n",
              "      <th>2</th>\n",
              "      <td>0</td>\n",
              "      <td>'C2054744914'</td>\n",
              "      <td>'4'</td>\n",
              "      <td>'F'</td>\n",
              "      <td>'28007'</td>\n",
              "      <td>'M1823072687'</td>\n",
              "      <td>'28007'</td>\n",
              "      <td>'es_transportation'</td>\n",
              "      <td>26.89</td>\n",
              "      <td>0</td>\n",
              "    </tr>\n",
              "    <tr>\n",
              "      <th>3</th>\n",
              "      <td>0</td>\n",
              "      <td>'C1760612790'</td>\n",
              "      <td>'3'</td>\n",
              "      <td>'M'</td>\n",
              "      <td>'28007'</td>\n",
              "      <td>'M348934600'</td>\n",
              "      <td>'28007'</td>\n",
              "      <td>'es_transportation'</td>\n",
              "      <td>17.25</td>\n",
              "      <td>0</td>\n",
              "    </tr>\n",
              "    <tr>\n",
              "      <th>4</th>\n",
              "      <td>0</td>\n",
              "      <td>'C757503768'</td>\n",
              "      <td>'5'</td>\n",
              "      <td>'M'</td>\n",
              "      <td>'28007'</td>\n",
              "      <td>'M348934600'</td>\n",
              "      <td>'28007'</td>\n",
              "      <td>'es_transportation'</td>\n",
              "      <td>35.72</td>\n",
              "      <td>0</td>\n",
              "    </tr>\n",
              "  </tbody>\n",
              "</table>\n",
              "</div>"
            ],
            "text/plain": [
              "   step       customer  age gender zipcodeOri       merchant zipMerchant  \\\n",
              "0     0  'C1093826151'  '4'    'M'    '28007'   'M348934600'     '28007'   \n",
              "1     0   'C352968107'  '2'    'M'    '28007'   'M348934600'     '28007'   \n",
              "2     0  'C2054744914'  '4'    'F'    '28007'  'M1823072687'     '28007'   \n",
              "3     0  'C1760612790'  '3'    'M'    '28007'   'M348934600'     '28007'   \n",
              "4     0   'C757503768'  '5'    'M'    '28007'   'M348934600'     '28007'   \n",
              "\n",
              "              category  amount  fraud  \n",
              "0  'es_transportation'    4.55      0  \n",
              "1  'es_transportation'   39.68      0  \n",
              "2  'es_transportation'   26.89      0  \n",
              "3  'es_transportation'   17.25      0  \n",
              "4  'es_transportation'   35.72      0  "
            ]
          },
          "execution_count": 7,
          "metadata": {},
          "output_type": "execute_result"
        }
      ],
      "source": [
        "df.head()"
      ]
    },
    {
      "cell_type": "code",
      "execution_count": null,
      "metadata": {
        "colab": {
          "base_uri": "https://localhost:8080/"
        },
        "id": "taFVc78mumqj",
        "outputId": "fdb4a0fa-81c0-4613-a4c7-1cddf1490640"
      },
      "outputs": [
        {
          "data": {
            "text/plain": [
              "0    587443\n",
              "1      7200\n",
              "Name: fraud, dtype: int64"
            ]
          },
          "execution_count": 8,
          "metadata": {},
          "output_type": "execute_result"
        }
      ],
      "source": [
        "df['fraud'].value_counts()"
      ]
    },
    {
      "cell_type": "code",
      "execution_count": null,
      "metadata": {
        "colab": {
          "base_uri": "https://localhost:8080/",
          "height": 713
        },
        "id": "WW7ovfx-umu6",
        "outputId": "0e14f67f-43d0-4963-efe2-307eda73d657"
      },
      "outputs": [
        {
          "data": {
            "text/plain": [
              "<Axes: xlabel='gender', ylabel='count'>"
            ]
          },
          "execution_count": 9,
          "metadata": {},
          "output_type": "execute_result"
        },
        {
          "data": {
            "image/png": "[encoded data removed]",
            "text/plain": [
              "<Figure size 800x800 with 1 Axes>"
            ]
          },
          "metadata": {},
          "output_type": "display_data"
        }
      ],
      "source": [
        "plt.figure(figsize=(8, 8))\n",
        "sns.countplot(x=df['gender'])"
      ]
    },
    {
      "cell_type": "code",
      "execution_count": null,
      "metadata": {
        "colab": {
          "base_uri": "https://localhost:8080/"
        },
        "id": "AHC0bW8gumxr",
        "outputId": "ebbc3234-4de2-4af6-d667-32187e9d1a8c"
      },
      "outputs": [
        {
          "data": {
            "text/plain": [
              "'F'    324565\n",
              "'M'    268385\n",
              "'E'      1178\n",
              "'U'       515\n",
              "Name: gender, dtype: int64"
            ]
          },
          "execution_count": 10,
          "metadata": {},
          "output_type": "execute_result"
        }
      ],
      "source": [
        "df['gender'].value_counts()"
      ]
    },
    {
      "cell_type": "code",
      "execution_count": null,
      "metadata": {
        "id": "zaamYlgz6B5E",
        "outputId": "30631e0e-0fed-490f-c765-e1bded2e3cea"
      },
      "outputs": [
        {
          "data": {
            "text/plain": [
              "step           0\n",
              "customer       0\n",
              "age            0\n",
              "gender         0\n",
              "zipcodeOri     0\n",
              "merchant       0\n",
              "zipMerchant    0\n",
              "category       0\n",
              "amount         0\n",
              "fraud          0\n",
              "dtype: int64"
            ]
          },
          "execution_count": 11,
          "metadata": {},
          "output_type": "execute_result"
        }
      ],
      "source": [
        "df.isnull().sum()"
      ]
    },
    {
      "cell_type": "code",
      "execution_count": null,
      "metadata": {
        "id": "kIJSVhepum1U"
      },
      "outputs": [],
      "source": [
        "df_fraud = df.loc[df.fraud == 1]\n",
        "df_non_fraud = df.loc[df.fraud == 0]"
      ]
    },
    {
      "cell_type": "code",
      "execution_count": null,
      "metadata": {
        "colab": {
          "base_uri": "https://localhost:8080/",
          "height": 452
        },
        "id": "3mASGlhTwfwO",
        "outputId": "4832e602-7426-44bb-da8b-d755b663006b"
      },
      "outputs": [
        {
          "data": {
            "image/png": "[encoded data removed]",
            "text/plain": [
              "<Figure size 640x480 with 1 Axes>"
            ]
          },
          "metadata": {},
          "output_type": "display_data"
        }
      ],
      "source": [
        "plt.hist(df_fraud.amount, alpha=0.5, label='fraud',bins=100)\n",
        "plt.hist(df_non_fraud.amount, alpha=0.5, label='nonfraud',bins=100)\n",
        "plt.title(\"Histogram for fraudulent and nonfraudulent payments\")\n",
        "plt.ylim(0,10000)\n",
        "plt.xlim(0,1000)\n",
        "plt.legend()\n",
        "plt.show()"
      ]
    },
    {
      "cell_type": "code",
      "execution_count": null,
      "metadata": {
        "colab": {
          "base_uri": "https://localhost:8080/",
          "height": 206
        },
        "id": "AgVTA1D_whOY",
        "outputId": "09e734d1-31fb-4312-feca-b132d3d43e2d"
      },
      "outputs": [
        {
          "data": {
            "text/html": [
              "<div>\n",
              "<style scoped>\n",
              "    .dataframe tbody tr th:only-of-type {\n",
              "        vertical-align: middle;\n",
              "    }\n",
              "\n",
              "    .dataframe tbody tr th {\n",
              "        vertical-align: top;\n",
              "    }\n",
              "\n",
              "    .dataframe thead th {\n",
              "        text-align: right;\n",
              "    }\n",
              "</style>\n",
              "<table border=\"1\" class=\"dataframe\">\n",
              "  <thead>\n",
              "    <tr style=\"text-align: right;\">\n",
              "      <th></th>\n",
              "      <th>step</th>\n",
              "      <th>customer</th>\n",
              "      <th>age</th>\n",
              "      <th>gender</th>\n",
              "      <th>zipcodeOri</th>\n",
              "      <th>merchant</th>\n",
              "      <th>zipMerchant</th>\n",
              "      <th>category</th>\n",
              "      <th>amount</th>\n",
              "      <th>fraud</th>\n",
              "    </tr>\n",
              "  </thead>\n",
              "  <tbody>\n",
              "    <tr>\n",
              "      <th>0</th>\n",
              "      <td>0</td>\n",
              "      <td>'C1093826151'</td>\n",
              "      <td>'4'</td>\n",
              "      <td>'M'</td>\n",
              "      <td>'28007'</td>\n",
              "      <td>'M348934600'</td>\n",
              "      <td>'28007'</td>\n",
              "      <td>'es_transportation'</td>\n",
              "      <td>4.55</td>\n",
              "      <td>0</td>\n",
              "    </tr>\n",
              "    <tr>\n",
              "      <th>1</th>\n",
              "      <td>0</td>\n",
              "      <td>'C352968107'</td>\n",
              "      <td>'2'</td>\n",
              "      <td>'M'</td>\n",
              "      <td>'28007'</td>\n",
              "      <td>'M348934600'</td>\n",
              "      <td>'28007'</td>\n",
              "      <td>'es_transportation'</td>\n",
              "      <td>39.68</td>\n",
              "      <td>0</td>\n",
              "    </tr>\n",
              "    <tr>\n",
              "      <th>2</th>\n",
              "      <td>0</td>\n",
              "      <td>'C2054744914'</td>\n",
              "      <td>'4'</td>\n",
              "      <td>'F'</td>\n",
              "      <td>'28007'</td>\n",
              "      <td>'M1823072687'</td>\n",
              "      <td>'28007'</td>\n",
              "      <td>'es_transportation'</td>\n",
              "      <td>26.89</td>\n",
              "      <td>0</td>\n",
              "    </tr>\n",
              "    <tr>\n",
              "      <th>3</th>\n",
              "      <td>0</td>\n",
              "      <td>'C1760612790'</td>\n",
              "      <td>'3'</td>\n",
              "      <td>'M'</td>\n",
              "      <td>'28007'</td>\n",
              "      <td>'M348934600'</td>\n",
              "      <td>'28007'</td>\n",
              "      <td>'es_transportation'</td>\n",
              "      <td>17.25</td>\n",
              "      <td>0</td>\n",
              "    </tr>\n",
              "    <tr>\n",
              "      <th>4</th>\n",
              "      <td>0</td>\n",
              "      <td>'C757503768'</td>\n",
              "      <td>'5'</td>\n",
              "      <td>'M'</td>\n",
              "      <td>'28007'</td>\n",
              "      <td>'M348934600'</td>\n",
              "      <td>'28007'</td>\n",
              "      <td>'es_transportation'</td>\n",
              "      <td>35.72</td>\n",
              "      <td>0</td>\n",
              "    </tr>\n",
              "  </tbody>\n",
              "</table>\n",
              "</div>"
            ],
            "text/plain": [
              "   step       customer  age gender zipcodeOri       merchant zipMerchant  \\\n",
              "0     0  'C1093826151'  '4'    'M'    '28007'   'M348934600'     '28007'   \n",
              "1     0   'C352968107'  '2'    'M'    '28007'   'M348934600'     '28007'   \n",
              "2     0  'C2054744914'  '4'    'F'    '28007'  'M1823072687'     '28007'   \n",
              "3     0  'C1760612790'  '3'    'M'    '28007'   'M348934600'     '28007'   \n",
              "4     0   'C757503768'  '5'    'M'    '28007'   'M348934600'     '28007'   \n",
              "\n",
              "              category  amount  fraud  \n",
              "0  'es_transportation'    4.55      0  \n",
              "1  'es_transportation'   39.68      0  \n",
              "2  'es_transportation'   26.89      0  \n",
              "3  'es_transportation'   17.25      0  \n",
              "4  'es_transportation'   35.72      0  "
            ]
          },
          "execution_count": 14,
          "metadata": {},
          "output_type": "execute_result"
        }
      ],
      "source": [
        "df.head()"
      ]
    },
    {
      "cell_type": "code",
      "execution_count": null,
      "metadata": {
        "colab": {
          "base_uri": "https://localhost:8080/"
        },
        "id": "SAnKk-W8y1iH",
        "outputId": "06c23d6b-9bf8-4bac-8558-ffaffac85dae"
      },
      "outputs": [
        {
          "data": {
            "text/plain": [
              "Index(['step', 'customer', 'age', 'gender', 'zipcodeOri', 'merchant',\n",
              "       'zipMerchant', 'category', 'amount', 'fraud'],\n",
              "      dtype='object')"
            ]
          },
          "execution_count": 15,
          "metadata": {},
          "output_type": "execute_result"
        }
      ],
      "source": [
        "column=df.columns\n",
        "column"
      ]
    },
    {
      "cell_type": "code",
      "execution_count": null,
      "metadata": {
        "colab": {
          "base_uri": "https://localhost:8080/"
        },
        "id": "1xc-m1hqy8nA",
        "outputId": "a3124882-892e-4a8e-fffe-652193326732"
      },
      "outputs": [
        {
          "name": "stdout",
          "output_type": "stream",
          "text": [
            "step:[  0   1   2   3   4   5   6   7   8   9  10  11  12  13  14  15  16  17\n",
            "  18  19  20  21  22  23  24  25  26  27  28  29  30  31  32  33  34  35\n",
            "  36  37  38  39  40  41  42  43  44  45  46  47  48  49  50  51  52  53\n",
            "  54  55  56  57  58  59  60  61  62  63  64  65  66  67  68  69  70  71\n",
            "  72  73  74  75  76  77  78  79  80  81  82  83  84  85  86  87  88  89\n",
            "  90  91  92  93  94  95  96  97  98  99 100 101 102 103 104 105 106 107\n",
            " 108 109 110 111 112 113 114 115 116 117 118 119 120 121 122 123 124 125\n",
            " 126 127 128 129 130 131 132 133 134 135 136 137 138 139 140 141 142 143\n",
            " 144 145 146 147 148 149 150 151 152 153 154 155 156 157 158 159 160 161\n",
            " 162 163 164 165 166 167 168 169 170 171 172 173 174 175 176 177 178 179]\n",
            "customer:[\"'C1093826151'\" \"'C352968107'\" \"'C2054744914'\" ... \"'C1014783484'\"\n",
            " \"'C849065220'\" \"'C1809646275'\"]\n",
            "age:[\"'4'\" \"'2'\" \"'3'\" \"'5'\" \"'1'\" \"'6'\" \"'U'\" \"'0'\"]\n",
            "gender:[\"'M'\" \"'F'\" \"'E'\" \"'U'\"]\n",
            "zipcodeOri:[\"'28007'\"]\n",
            "merchant:[\"'M348934600'\" \"'M1823072687'\" \"'M50039827'\" \"'M1888755466'\"\n",
            " \"'M1053599405'\" \"'M85975013'\" \"'M480139044'\" \"'M692898500'\"\n",
            " \"'M348875670'\" \"'M151143676'\" \"'M840466850'\" \"'M1741626453'\"\n",
            " \"'M1535107174'\" \"'M855959430'\" \"'M349281107'\" \"'M209847108'\"\n",
            " \"'M2122776122'\" \"'M1873032707'\" \"'M2011752106'\" \"'M857378720'\"\n",
            " \"'M1198415165'\" \"'M1748431652'\" \"'M980657600'\" \"'M1352454843'\"\n",
            " \"'M117188757'\" \"'M547558035'\" \"'M17379832'\" \"'M1649169323'\"\n",
            " \"'M1946091778'\" \"'M97925176'\" \"'M923029380'\" \"'M1353266412'\"\n",
            " \"'M1842530320'\" \"'M677738360'\" \"'M1313686961'\" \"'M732195782'\"\n",
            " \"'M1600850729'\" \"'M1872033263'\" \"'M3697346'\" \"'M495352832'\"\n",
            " \"'M1400236507'\" \"'M1294758098'\" \"'M1913465890'\" \"'M45060432'\"\n",
            " \"'M78078399'\" \"'M2080407379'\" \"'M1788569036'\" \"'M1416436880'\"\n",
            " \"'M933210764'\" \"'M1726401631'\"]\n",
            "zipMerchant:[\"'28007'\"]\n",
            "category:[\"'es_transportation'\" \"'es_health'\" \"'es_otherservices'\" \"'es_food'\"\n",
            " \"'es_hotelservices'\" \"'es_barsandrestaurants'\" \"'es_tech'\"\n",
            " \"'es_sportsandtoys'\" \"'es_wellnessandbeauty'\" \"'es_hyper'\" \"'es_fashion'\"\n",
            " \"'es_home'\" \"'es_contents'\" \"'es_travel'\" \"'es_leisure'\"]\n",
            "amount:[  4.55  39.68  26.89 ... 249.18 224.81 190.31]\n",
            "fraud:[0 1]\n"
          ]
        }
      ],
      "source": [
        "for i in column:\n",
        "  print(f'{i}:{df[i].unique()}')"
      ]
    },
    {
      "cell_type": "code",
      "execution_count": null,
      "metadata": {
        "id": "44jB_X_71juL"
      },
      "outputs": [],
      "source": [
        "df['customer'] = df['customer'].str.replace(\"'\", \"\")\n",
        "df['age'] = df['age'].str.replace(\"'\", \"\")\n",
        "df['gender'] = df['gender'].str.replace(\"'\", \"\")\n",
        "df['zipcodeOri'] = df['zipcodeOri'].str.replace(\"'\", \"\")\n",
        "df['merchant'] = df['merchant'].str.replace(\"'\", \"\")\n",
        "df['zipMerchant'] = df['zipMerchant'].str.replace(\"'\", \"\")\n",
        "df['category'] = df['category'].str.replace(\"'\", \"\")"
      ]
    },
    {
      "cell_type": "code",
      "execution_count": null,
      "metadata": {
        "colab": {
          "base_uri": "https://localhost:8080/"
        },
        "id": "HkwPj-zi5IFS",
        "outputId": "11da224e-6ca7-428e-c6be-f93425b6a886"
      },
      "outputs": [
        {
          "data": {
            "text/plain": [
              "array(['C1093826151', 'C352968107', 'C2054744914', ..., 'C1014783484',\n",
              "       'C849065220', 'C1809646275'], dtype=object)"
            ]
          },
          "execution_count": 18,
          "metadata": {},
          "output_type": "execute_result"
        }
      ],
      "source": [
        "df['customer'].unique()"
      ]
    },
    {
      "cell_type": "code",
      "execution_count": null,
      "metadata": {
        "colab": {
          "base_uri": "https://localhost:8080/"
        },
        "id": "TQB_zizG33J_",
        "outputId": "88ead0b4-29ca-4193-bb55-c8e346e6db83"
      },
      "outputs": [
        {
          "name": "stdout",
          "output_type": "stream",
          "text": [
            "<class 'pandas.core.frame.DataFrame'>\n",
            "RangeIndex: 594643 entries, 0 to 594642\n",
            "Data columns (total 10 columns):\n",
            " #   Column       Non-Null Count   Dtype  \n",
            "---  ------       --------------   -----  \n",
            " 0   step         594643 non-null  int64  \n",
            " 1   customer     594643 non-null  object \n",
            " 2   age          594643 non-null  object \n",
            " 3   gender       594643 non-null  object \n",
            " 4   zipcodeOri   594643 non-null  object \n",
            " 5   merchant     594643 non-null  object \n",
            " 6   zipMerchant  594643 non-null  object \n",
            " 7   category     594643 non-null  object \n",
            " 8   amount       594643 non-null  float64\n",
            " 9   fraud        594643 non-null  int64  \n",
            "dtypes: float64(1), int64(2), object(7)\n",
            "memory usage: 45.4+ MB\n"
          ]
        }
      ],
      "source": [
        "df.info()"
      ]
    },
    {
      "cell_type": "code",
      "execution_count": null,
      "metadata": {
        "colab": {
          "base_uri": "https://localhost:8080/",
          "height": 466
        },
        "id": "F0nRFyxD1-h2",
        "outputId": "65d890b3-54a1-4d62-d88d-5db1e80d00a0"
      },
      "outputs": [
        {
          "data": {
            "text/plain": [
              "<Axes: xlabel='fraud', ylabel='count'>"
            ]
          },
          "execution_count": 20,
          "metadata": {},
          "output_type": "execute_result"
        },
        {
          "data": {
            "image/png": "[encoded data removed]",
            "text/plain": [
              "<Figure size 640x480 with 1 Axes>"
            ]
          },
          "metadata": {},
          "output_type": "display_data"
        }
      ],
      "source": [
        "sns.countplot(x=df['fraud'],hue=df['gender'])"
      ]
    },
    {
      "cell_type": "code",
      "execution_count": null,
      "metadata": {
        "colab": {
          "base_uri": "https://localhost:8080/",
          "height": 466
        },
        "id": "diWwyxJF6WhS",
        "outputId": "7f91f93b-682c-44a5-d753-3f8503e9bb15"
      },
      "outputs": [
        {
          "data": {
            "text/plain": [
              "<Axes: xlabel='fraud', ylabel='count'>"
            ]
          },
          "execution_count": 21,
          "metadata": {},
          "output_type": "execute_result"
        },
        {
          "data": {
            "image/png": "[encoded data removed]",
            "text/plain": [
              "<Figure size 640x480 with 1 Axes>"
            ]
          },
          "metadata": {},
          "output_type": "display_data"
        }
      ],
      "source": [
        "sns.countplot(x=df['fraud'],hue=df['age'])"
      ]
    },
    {
      "cell_type": "code",
      "execution_count": null,
      "metadata": {
        "colab": {
          "base_uri": "https://localhost:8080/",
          "height": 206
        },
        "id": "n-CYif2P6nBo",
        "outputId": "8fd7352c-1589-4659-e206-ccba843bb7c8"
      },
      "outputs": [
        {
          "data": {
            "text/html": [
              "<div>\n",
              "<style scoped>\n",
              "    .dataframe tbody tr th:only-of-type {\n",
              "        vertical-align: middle;\n",
              "    }\n",
              "\n",
              "    .dataframe tbody tr th {\n",
              "        vertical-align: top;\n",
              "    }\n",
              "\n",
              "    .dataframe thead th {\n",
              "        text-align: right;\n",
              "    }\n",
              "</style>\n",
              "<table border=\"1\" class=\"dataframe\">\n",
              "  <thead>\n",
              "    <tr style=\"text-align: right;\">\n",
              "      <th></th>\n",
              "      <th>step</th>\n",
              "      <th>customer</th>\n",
              "      <th>age</th>\n",
              "      <th>gender</th>\n",
              "      <th>zipcodeOri</th>\n",
              "      <th>merchant</th>\n",
              "      <th>zipMerchant</th>\n",
              "      <th>category</th>\n",
              "      <th>amount</th>\n",
              "      <th>fraud</th>\n",
              "    </tr>\n",
              "  </thead>\n",
              "  <tbody>\n",
              "    <tr>\n",
              "      <th>0</th>\n",
              "      <td>0</td>\n",
              "      <td>C1093826151</td>\n",
              "      <td>4</td>\n",
              "      <td>M</td>\n",
              "      <td>28007</td>\n",
              "      <td>M348934600</td>\n",
              "      <td>28007</td>\n",
              "      <td>es_transportation</td>\n",
              "      <td>4.55</td>\n",
              "      <td>0</td>\n",
              "    </tr>\n",
              "    <tr>\n",
              "      <th>1</th>\n",
              "      <td>0</td>\n",
              "      <td>C352968107</td>\n",
              "      <td>2</td>\n",
              "      <td>M</td>\n",
              "      <td>28007</td>\n",
              "      <td>M348934600</td>\n",
              "      <td>28007</td>\n",
              "      <td>es_transportation</td>\n",
              "      <td>39.68</td>\n",
              "      <td>0</td>\n",
              "    </tr>\n",
              "    <tr>\n",
              "      <th>2</th>\n",
              "      <td>0</td>\n",
              "      <td>C2054744914</td>\n",
              "      <td>4</td>\n",
              "      <td>F</td>\n",
              "      <td>28007</td>\n",
              "      <td>M1823072687</td>\n",
              "      <td>28007</td>\n",
              "      <td>es_transportation</td>\n",
              "      <td>26.89</td>\n",
              "      <td>0</td>\n",
              "    </tr>\n",
              "    <tr>\n",
              "      <th>3</th>\n",
              "      <td>0</td>\n",
              "      <td>C1760612790</td>\n",
              "      <td>3</td>\n",
              "      <td>M</td>\n",
              "      <td>28007</td>\n",
              "      <td>M348934600</td>\n",
              "      <td>28007</td>\n",
              "      <td>es_transportation</td>\n",
              "      <td>17.25</td>\n",
              "      <td>0</td>\n",
              "    </tr>\n",
              "    <tr>\n",
              "      <th>4</th>\n",
              "      <td>0</td>\n",
              "      <td>C757503768</td>\n",
              "      <td>5</td>\n",
              "      <td>M</td>\n",
              "      <td>28007</td>\n",
              "      <td>M348934600</td>\n",
              "      <td>28007</td>\n",
              "      <td>es_transportation</td>\n",
              "      <td>35.72</td>\n",
              "      <td>0</td>\n",
              "    </tr>\n",
              "  </tbody>\n",
              "</table>\n",
              "</div>"
            ],
            "text/plain": [
              "   step     customer age gender zipcodeOri     merchant zipMerchant  \\\n",
              "0     0  C1093826151   4      M      28007   M348934600       28007   \n",
              "1     0   C352968107   2      M      28007   M348934600       28007   \n",
              "2     0  C2054744914   4      F      28007  M1823072687       28007   \n",
              "3     0  C1760612790   3      M      28007   M348934600       28007   \n",
              "4     0   C757503768   5      M      28007   M348934600       28007   \n",
              "\n",
              "            category  amount  fraud  \n",
              "0  es_transportation    4.55      0  \n",
              "1  es_transportation   39.68      0  \n",
              "2  es_transportation   26.89      0  \n",
              "3  es_transportation   17.25      0  \n",
              "4  es_transportation   35.72      0  "
            ]
          },
          "execution_count": 22,
          "metadata": {},
          "output_type": "execute_result"
        }
      ],
      "source": [
        "df.head()"
      ]
    },
    {
      "cell_type": "code",
      "execution_count": null,
      "metadata": {
        "id": "vWPk0bRL8hYE"
      },
      "outputs": [],
      "source": [
        "df['zipcodeOri']=df['zipcodeOri'].astype(int)\n",
        "df['zipMerchant']=df['zipMerchant'].astype(int)"
      ]
    },
    {
      "cell_type": "code",
      "execution_count": null,
      "metadata": {
        "id": "VQGxFF3r8P6a"
      },
      "outputs": [],
      "source": [
        "corr=df.corr()"
      ]
    },
    {
      "cell_type": "code",
      "execution_count": null,
      "metadata": {
        "colab": {
          "base_uri": "https://localhost:8080/",
          "height": 524
        },
        "id": "_78wXwEC8J1t",
        "outputId": "7036320d-c41b-4cf7-bc5f-c5c9b1a0c10d"
      },
      "outputs": [
        {
          "name": "stderr",
          "output_type": "stream",
          "text": [
            "C:\\Users\\USER\\.dotnet\\ANACONDA\\lib\\site-packages\\seaborn\\matrix.py:256: FutureWarning: Format strings passed to MaskedConstant are ignored, but in future may error or produce different behavior\n",
            "  annotation = (\"{:\" + self.fmt + \"}\").format(val)\n"
          ]
        },
        {
          "data": {
            "text/plain": [
              "<Axes: >"
            ]
          },
          "execution_count": 25,
          "metadata": {},
          "output_type": "execute_result"
        },
        {
          "data": {
            "image/png": "[encoded data removed]",
            "text/plain": [
              "<Figure size 640x480 with 2 Axes>"
            ]
          },
          "metadata": {},
          "output_type": "display_data"
        }
      ],
      "source": [
        "sns.heatmap(corr,annot=True)"
      ]
    },
    {
      "cell_type": "code",
      "execution_count": null,
      "metadata": {
        "colab": {
          "base_uri": "https://localhost:8080/",
          "height": 424
        },
        "id": "0e3TVSvT8R18",
        "outputId": "277dfdb7-e565-4b7d-ae44-19a1b66f0843"
      },
      "outputs": [
        {
          "data": {
            "text/html": [
              "<div>\n",
              "<style scoped>\n",
              "    .dataframe tbody tr th:only-of-type {\n",
              "        vertical-align: middle;\n",
              "    }\n",
              "\n",
              "    .dataframe tbody tr th {\n",
              "        vertical-align: top;\n",
              "    }\n",
              "\n",
              "    .dataframe thead th {\n",
              "        text-align: right;\n",
              "    }\n",
              "</style>\n",
              "<table border=\"1\" class=\"dataframe\">\n",
              "  <thead>\n",
              "    <tr style=\"text-align: right;\">\n",
              "      <th></th>\n",
              "      <th>step</th>\n",
              "      <th>customer</th>\n",
              "      <th>age</th>\n",
              "      <th>gender</th>\n",
              "      <th>merchant</th>\n",
              "      <th>zipMerchant</th>\n",
              "      <th>category</th>\n",
              "      <th>amount</th>\n",
              "      <th>fraud</th>\n",
              "    </tr>\n",
              "  </thead>\n",
              "  <tbody>\n",
              "    <tr>\n",
              "      <th>0</th>\n",
              "      <td>0</td>\n",
              "      <td>C1093826151</td>\n",
              "      <td>4</td>\n",
              "      <td>M</td>\n",
              "      <td>M348934600</td>\n",
              "      <td>28007</td>\n",
              "      <td>es_transportation</td>\n",
              "      <td>4.55</td>\n",
              "      <td>0</td>\n",
              "    </tr>\n",
              "    <tr>\n",
              "      <th>1</th>\n",
              "      <td>0</td>\n",
              "      <td>C352968107</td>\n",
              "      <td>2</td>\n",
              "      <td>M</td>\n",
              "      <td>M348934600</td>\n",
              "      <td>28007</td>\n",
              "      <td>es_transportation</td>\n",
              "      <td>39.68</td>\n",
              "      <td>0</td>\n",
              "    </tr>\n",
              "    <tr>\n",
              "      <th>2</th>\n",
              "      <td>0</td>\n",
              "      <td>C2054744914</td>\n",
              "      <td>4</td>\n",
              "      <td>F</td>\n",
              "      <td>M1823072687</td>\n",
              "      <td>28007</td>\n",
              "      <td>es_transportation</td>\n",
              "      <td>26.89</td>\n",
              "      <td>0</td>\n",
              "    </tr>\n",
              "    <tr>\n",
              "      <th>3</th>\n",
              "      <td>0</td>\n",
              "      <td>C1760612790</td>\n",
              "      <td>3</td>\n",
              "      <td>M</td>\n",
              "      <td>M348934600</td>\n",
              "      <td>28007</td>\n",
              "      <td>es_transportation</td>\n",
              "      <td>17.25</td>\n",
              "      <td>0</td>\n",
              "    </tr>\n",
              "    <tr>\n",
              "      <th>4</th>\n",
              "      <td>0</td>\n",
              "      <td>C757503768</td>\n",
              "      <td>5</td>\n",
              "      <td>M</td>\n",
              "      <td>M348934600</td>\n",
              "      <td>28007</td>\n",
              "      <td>es_transportation</td>\n",
              "      <td>35.72</td>\n",
              "      <td>0</td>\n",
              "    </tr>\n",
              "    <tr>\n",
              "      <th>...</th>\n",
              "      <td>...</td>\n",
              "      <td>...</td>\n",
              "      <td>...</td>\n",
              "      <td>...</td>\n",
              "      <td>...</td>\n",
              "      <td>...</td>\n",
              "      <td>...</td>\n",
              "      <td>...</td>\n",
              "      <td>...</td>\n",
              "    </tr>\n",
              "    <tr>\n",
              "      <th>594638</th>\n",
              "      <td>179</td>\n",
              "      <td>C1753498738</td>\n",
              "      <td>3</td>\n",
              "      <td>F</td>\n",
              "      <td>M1823072687</td>\n",
              "      <td>28007</td>\n",
              "      <td>es_transportation</td>\n",
              "      <td>20.53</td>\n",
              "      <td>0</td>\n",
              "    </tr>\n",
              "    <tr>\n",
              "      <th>594639</th>\n",
              "      <td>179</td>\n",
              "      <td>C650108285</td>\n",
              "      <td>4</td>\n",
              "      <td>F</td>\n",
              "      <td>M1823072687</td>\n",
              "      <td>28007</td>\n",
              "      <td>es_transportation</td>\n",
              "      <td>50.73</td>\n",
              "      <td>0</td>\n",
              "    </tr>\n",
              "    <tr>\n",
              "      <th>594640</th>\n",
              "      <td>179</td>\n",
              "      <td>C123623130</td>\n",
              "      <td>2</td>\n",
              "      <td>F</td>\n",
              "      <td>M349281107</td>\n",
              "      <td>28007</td>\n",
              "      <td>es_fashion</td>\n",
              "      <td>22.44</td>\n",
              "      <td>0</td>\n",
              "    </tr>\n",
              "    <tr>\n",
              "      <th>594641</th>\n",
              "      <td>179</td>\n",
              "      <td>C1499363341</td>\n",
              "      <td>5</td>\n",
              "      <td>M</td>\n",
              "      <td>M1823072687</td>\n",
              "      <td>28007</td>\n",
              "      <td>es_transportation</td>\n",
              "      <td>14.46</td>\n",
              "      <td>0</td>\n",
              "    </tr>\n",
              "    <tr>\n",
              "      <th>594642</th>\n",
              "      <td>179</td>\n",
              "      <td>C616528518</td>\n",
              "      <td>4</td>\n",
              "      <td>F</td>\n",
              "      <td>M1823072687</td>\n",
              "      <td>28007</td>\n",
              "      <td>es_transportation</td>\n",
              "      <td>26.93</td>\n",
              "      <td>0</td>\n",
              "    </tr>\n",
              "  </tbody>\n",
              "</table>\n",
              "<p>594643 rows × 9 columns</p>\n",
              "</div>"
            ],
            "text/plain": [
              "        step     customer age gender     merchant  zipMerchant  \\\n",
              "0          0  C1093826151   4      M   M348934600        28007   \n",
              "1          0   C352968107   2      M   M348934600        28007   \n",
              "2          0  C2054744914   4      F  M1823072687        28007   \n",
              "3          0  C1760612790   3      M   M348934600        28007   \n",
              "4          0   C757503768   5      M   M348934600        28007   \n",
              "...      ...          ...  ..    ...          ...          ...   \n",
              "594638   179  C1753498738   3      F  M1823072687        28007   \n",
              "594639   179   C650108285   4      F  M1823072687        28007   \n",
              "594640   179   C123623130   2      F   M349281107        28007   \n",
              "594641   179  C1499363341   5      M  M1823072687        28007   \n",
              "594642   179   C616528518   4      F  M1823072687        28007   \n",
              "\n",
              "                 category  amount  fraud  \n",
              "0       es_transportation    4.55      0  \n",
              "1       es_transportation   39.68      0  \n",
              "2       es_transportation   26.89      0  \n",
              "3       es_transportation   17.25      0  \n",
              "4       es_transportation   35.72      0  \n",
              "...                   ...     ...    ...  \n",
              "594638  es_transportation   20.53      0  \n",
              "594639  es_transportation   50.73      0  \n",
              "594640         es_fashion   22.44      0  \n",
              "594641  es_transportation   14.46      0  \n",
              "594642  es_transportation   26.93      0  \n",
              "\n",
              "[594643 rows x 9 columns]"
            ]
          },
          "execution_count": 26,
          "metadata": {},
          "output_type": "execute_result"
        }
      ],
      "source": [
        "df.drop(['zipcodeOri'], inplace=True, axis=1)\n",
        "df"
      ]
    },
    {
      "cell_type": "code",
      "execution_count": null,
      "metadata": {
        "id": "8H9XBBNG-a22"
      },
      "outputs": [],
      "source": [
        "df.drop(['zipMerchant'], inplace=True, axis=1)"
      ]
    },
    {
      "cell_type": "code",
      "execution_count": null,
      "metadata": {
        "id": "AACCwesV9PIf"
      },
      "outputs": [],
      "source": [
        "corr=df.corr()"
      ]
    },
    {
      "cell_type": "code",
      "execution_count": null,
      "metadata": {
        "colab": {
          "base_uri": "https://localhost:8080/",
          "height": 452
        },
        "id": "ltkDH7889Isx",
        "outputId": "a9151bfb-7e8d-42a4-faf7-db875c5239e3"
      },
      "outputs": [
        {
          "data": {
            "text/plain": [
              "<Axes: >"
            ]
          },
          "execution_count": 29,
          "metadata": {},
          "output_type": "execute_result"
        },
        {
          "data": {
            "image/png": "[encoded data removed]",
            "text/plain": [
              "<Figure size 640x480 with 2 Axes>"
            ]
          },
          "metadata": {},
          "output_type": "display_data"
        }
      ],
      "source": [
        "sns.heatmap(corr,annot=True)"
      ]
    },
    {
      "cell_type": "code",
      "execution_count": null,
      "metadata": {
        "colab": {
          "base_uri": "https://localhost:8080/",
          "height": 530
        },
        "id": "goqQuj6t-1DN",
        "outputId": "7ac4f7d6-7330-47c2-8dbd-1f213fdaca0b"
      },
      "outputs": [
        {
          "data": {
            "text/plain": [
              "<seaborn.axisgrid.PairGrid at 0x16f1f614f70>"
            ]
          },
          "execution_count": 30,
          "metadata": {},
          "output_type": "execute_result"
        },
        {
          "data": {
            "image/png": "[encoded data removed]",
            "text/plain": [
              "<Figure size 558.875x500 with 6 Axes>"
            ]
          },
          "metadata": {},
          "output_type": "display_data"
        }
      ],
      "source": [
        "sns.pairplot(df,hue='fraud')"
      ]
    },
    {
      "cell_type": "code",
      "execution_count": null,
      "metadata": {
        "id": "352LkwUV-wt_"
      },
      "outputs": [],
      "source": [
        "from sklearn.model_selection import train_test_split\n",
        "from sklearn.preprocessing import StandardScaler,MinMaxScaler\n",
        "from sklearn.metrics import accuracy_score, classification_report\n",
        "from sklearn.tree import DecisionTreeClassifier\n",
        "from sklearn.linear_model import LogisticRegression\n",
        "from sklearn.ensemble import RandomForestClassifier\n",
        "from sklearn.naive_bayes import GaussianNB\n",
        "from sklearn.ensemble import GradientBoostingClassifier\n",
        "from sklearn.ensemble import AdaBoostClassifier\n",
        "from xgboost import XGBClassifier\n",
        "from sklearn.metrics import confusion_matrix\n",
        "from imblearn.over_sampling import SMOTE\n",
        "from sklearn.svm import SVC\n",
        "from sklearn.preprocessing import LabelEncoder"
      ]
    },
    {
      "cell_type": "code",
      "execution_count": null,
      "metadata": {
        "colab": {
          "base_uri": "https://localhost:8080/",
          "height": 206
        },
        "id": "v3CLI6Tu_8oc",
        "outputId": "19d23447-de84-49f1-e2d6-46404a76fb35"
      },
      "outputs": [
        {
          "data": {
            "text/html": [
              "<div>\n",
              "<style scoped>\n",
              "    .dataframe tbody tr th:only-of-type {\n",
              "        vertical-align: middle;\n",
              "    }\n",
              "\n",
              "    .dataframe tbody tr th {\n",
              "        vertical-align: top;\n",
              "    }\n",
              "\n",
              "    .dataframe thead th {\n",
              "        text-align: right;\n",
              "    }\n",
              "</style>\n",
              "<table border=\"1\" class=\"dataframe\">\n",
              "  <thead>\n",
              "    <tr style=\"text-align: right;\">\n",
              "      <th></th>\n",
              "      <th>step</th>\n",
              "      <th>customer</th>\n",
              "      <th>age</th>\n",
              "      <th>gender</th>\n",
              "      <th>merchant</th>\n",
              "      <th>category</th>\n",
              "      <th>amount</th>\n",
              "      <th>fraud</th>\n",
              "    </tr>\n",
              "  </thead>\n",
              "  <tbody>\n",
              "    <tr>\n",
              "      <th>0</th>\n",
              "      <td>0</td>\n",
              "      <td>C1093826151</td>\n",
              "      <td>4</td>\n",
              "      <td>M</td>\n",
              "      <td>M348934600</td>\n",
              "      <td>es_transportation</td>\n",
              "      <td>4.55</td>\n",
              "      <td>0</td>\n",
              "    </tr>\n",
              "    <tr>\n",
              "      <th>1</th>\n",
              "      <td>0</td>\n",
              "      <td>C352968107</td>\n",
              "      <td>2</td>\n",
              "      <td>M</td>\n",
              "      <td>M348934600</td>\n",
              "      <td>es_transportation</td>\n",
              "      <td>39.68</td>\n",
              "      <td>0</td>\n",
              "    </tr>\n",
              "    <tr>\n",
              "      <th>2</th>\n",
              "      <td>0</td>\n",
              "      <td>C2054744914</td>\n",
              "      <td>4</td>\n",
              "      <td>F</td>\n",
              "      <td>M1823072687</td>\n",
              "      <td>es_transportation</td>\n",
              "      <td>26.89</td>\n",
              "      <td>0</td>\n",
              "    </tr>\n",
              "    <tr>\n",
              "      <th>3</th>\n",
              "      <td>0</td>\n",
              "      <td>C1760612790</td>\n",
              "      <td>3</td>\n",
              "      <td>M</td>\n",
              "      <td>M348934600</td>\n",
              "      <td>es_transportation</td>\n",
              "      <td>17.25</td>\n",
              "      <td>0</td>\n",
              "    </tr>\n",
              "    <tr>\n",
              "      <th>4</th>\n",
              "      <td>0</td>\n",
              "      <td>C757503768</td>\n",
              "      <td>5</td>\n",
              "      <td>M</td>\n",
              "      <td>M348934600</td>\n",
              "      <td>es_transportation</td>\n",
              "      <td>35.72</td>\n",
              "      <td>0</td>\n",
              "    </tr>\n",
              "  </tbody>\n",
              "</table>\n",
              "</div>"
            ],
            "text/plain": [
              "   step     customer age gender     merchant           category  amount  fraud\n",
              "0     0  C1093826151   4      M   M348934600  es_transportation    4.55      0\n",
              "1     0   C352968107   2      M   M348934600  es_transportation   39.68      0\n",
              "2     0  C2054744914   4      F  M1823072687  es_transportation   26.89      0\n",
              "3     0  C1760612790   3      M   M348934600  es_transportation   17.25      0\n",
              "4     0   C757503768   5      M   M348934600  es_transportation   35.72      0"
            ]
          },
          "execution_count": 33,
          "metadata": {},
          "output_type": "execute_result"
        }
      ],
      "source": [
        "df.head()"
      ]
    },
    {
      "cell_type": "code",
      "execution_count": null,
      "metadata": {
        "id": "E5YwZuHK6B5h"
      },
      "outputs": [],
      "source": [
        "label_encoder = LabelEncoder()"
      ]
    },
    {
      "cell_type": "code",
      "execution_count": null,
      "metadata": {
        "id": "Xhq8ZySH_3TH"
      },
      "outputs": [],
      "source": [
        "df['gender_encoded'] = label_encoder.fit_transform(df['gender'])\n",
        "df['customer_encoded'] = label_encoder.fit_transform(df['customer'])\n",
        "df['category_encoded'] = label_encoder.fit_transform(df['category'])\n",
        "df['merchant_encoded'] = label_encoder.fit_transform(df['merchant'])"
      ]
    },
    {
      "cell_type": "code",
      "execution_count": null,
      "metadata": {
        "id": "gAOuxycU6B5v"
      },
      "outputs": [],
      "source": [
        "df.drop(['gender'], inplace=True, axis=1)\n",
        "df.drop(['merchant'], inplace=True, axis=1)\n",
        "df.drop(['customer'], inplace=True, axis=1)\n",
        "df.drop(['category'], inplace=True, axis=1)"
      ]
    },
    {
      "cell_type": "code",
      "execution_count": null,
      "metadata": {
        "colab": {
          "base_uri": "https://localhost:8080/",
          "height": 256
        },
        "id": "vy3BXqB9AFiZ",
        "outputId": "01121ade-3e9a-4f8a-f12e-b608f99bfad4"
      },
      "outputs": [
        {
          "data": {
            "text/html": [
              "<div>\n",
              "<style scoped>\n",
              "    .dataframe tbody tr th:only-of-type {\n",
              "        vertical-align: middle;\n",
              "    }\n",
              "\n",
              "    .dataframe tbody tr th {\n",
              "        vertical-align: top;\n",
              "    }\n",
              "\n",
              "    .dataframe thead th {\n",
              "        text-align: right;\n",
              "    }\n",
              "</style>\n",
              "<table border=\"1\" class=\"dataframe\">\n",
              "  <thead>\n",
              "    <tr style=\"text-align: right;\">\n",
              "      <th></th>\n",
              "      <th>step</th>\n",
              "      <th>age</th>\n",
              "      <th>amount</th>\n",
              "      <th>fraud</th>\n",
              "      <th>gender_encoded</th>\n",
              "      <th>customer_encoded</th>\n",
              "      <th>category_encoded</th>\n",
              "      <th>merchant_encoded</th>\n",
              "    </tr>\n",
              "  </thead>\n",
              "  <tbody>\n",
              "    <tr>\n",
              "      <th>0</th>\n",
              "      <td>0</td>\n",
              "      <td>4</td>\n",
              "      <td>4.55</td>\n",
              "      <td>0</td>\n",
              "      <td>2</td>\n",
              "      <td>210</td>\n",
              "      <td>12</td>\n",
              "      <td>30</td>\n",
              "    </tr>\n",
              "    <tr>\n",
              "      <th>1</th>\n",
              "      <td>0</td>\n",
              "      <td>2</td>\n",
              "      <td>39.68</td>\n",
              "      <td>0</td>\n",
              "      <td>2</td>\n",
              "      <td>2753</td>\n",
              "      <td>12</td>\n",
              "      <td>30</td>\n",
              "    </tr>\n",
              "    <tr>\n",
              "      <th>2</th>\n",
              "      <td>0</td>\n",
              "      <td>4</td>\n",
              "      <td>26.89</td>\n",
              "      <td>0</td>\n",
              "      <td>1</td>\n",
              "      <td>2285</td>\n",
              "      <td>12</td>\n",
              "      <td>18</td>\n",
              "    </tr>\n",
              "    <tr>\n",
              "      <th>3</th>\n",
              "      <td>0</td>\n",
              "      <td>3</td>\n",
              "      <td>17.25</td>\n",
              "      <td>0</td>\n",
              "      <td>2</td>\n",
              "      <td>1650</td>\n",
              "      <td>12</td>\n",
              "      <td>30</td>\n",
              "    </tr>\n",
              "    <tr>\n",
              "      <th>4</th>\n",
              "      <td>0</td>\n",
              "      <td>5</td>\n",
              "      <td>35.72</td>\n",
              "      <td>0</td>\n",
              "      <td>2</td>\n",
              "      <td>3585</td>\n",
              "      <td>12</td>\n",
              "      <td>30</td>\n",
              "    </tr>\n",
              "  </tbody>\n",
              "</table>\n",
              "</div>"
            ],
            "text/plain": [
              "   step age  amount  fraud  gender_encoded  customer_encoded  \\\n",
              "0     0   4    4.55      0               2               210   \n",
              "1     0   2   39.68      0               2              2753   \n",
              "2     0   4   26.89      0               1              2285   \n",
              "3     0   3   17.25      0               2              1650   \n",
              "4     0   5   35.72      0               2              3585   \n",
              "\n",
              "   category_encoded  merchant_encoded  \n",
              "0                12                30  \n",
              "1                12                30  \n",
              "2                12                18  \n",
              "3                12                30  \n",
              "4                12                30  "
            ]
          },
          "execution_count": 37,
          "metadata": {},
          "output_type": "execute_result"
        }
      ],
      "source": [
        "df.head()"
      ]
    },
    {
      "cell_type": "code",
      "execution_count": null,
      "metadata": {
        "id": "S0TABdIk6B5x",
        "outputId": "2722b39d-375e-44cc-b12d-6b85271c5ba9"
      },
      "outputs": [
        {
          "name": "stdout",
          "output_type": "stream",
          "text": [
            "<class 'pandas.core.frame.DataFrame'>\n",
            "RangeIndex: 594643 entries, 0 to 594642\n",
            "Data columns (total 8 columns):\n",
            " #   Column            Non-Null Count   Dtype  \n",
            "---  ------            --------------   -----  \n",
            " 0   step              594643 non-null  int64  \n",
            " 1   age               594643 non-null  object \n",
            " 2   amount            594643 non-null  float64\n",
            " 3   fraud             594643 non-null  int64  \n",
            " 4   gender_encoded    594643 non-null  int32  \n",
            " 5   customer_encoded  594643 non-null  int32  \n",
            " 6   category_encoded  594643 non-null  int32  \n",
            " 7   merchant_encoded  594643 non-null  int32  \n",
            "dtypes: float64(1), int32(4), int64(2), object(1)\n",
            "memory usage: 27.2+ MB\n"
          ]
        }
      ],
      "source": [
        "df.info()"
      ]
    },
    {
      "cell_type": "code",
      "execution_count": null,
      "metadata": {
        "id": "BkghwZhN6B5y"
      },
      "outputs": [],
      "source": [
        "df['age'] = pd.to_numeric(df['age'], errors='coerce')"
      ]
    },
    {
      "cell_type": "code",
      "execution_count": null,
      "metadata": {
        "id": "iVX9Zo796B5z",
        "outputId": "ea12f7c3-8fdc-49dc-8cdd-7589410d4642"
      },
      "outputs": [
        {
          "data": {
            "text/plain": [
              "2.0    187310\n",
              "3.0    147131\n",
              "4.0    109025\n",
              "5.0     62642\n",
              "1.0     58131\n",
              "6.0     26774\n",
              "0.0      2452\n",
              "Name: age, dtype: int64"
            ]
          },
          "execution_count": 40,
          "metadata": {},
          "output_type": "execute_result"
        }
      ],
      "source": [
        "df['age'].value_counts()"
      ]
    },
    {
      "cell_type": "code",
      "execution_count": null,
      "metadata": {
        "id": "5AOrVbI16B5z"
      },
      "outputs": [],
      "source": [
        "df['age']=df['age'].fillna(df['age'].median())"
      ]
    },
    {
      "cell_type": "code",
      "execution_count": null,
      "metadata": {
        "id": "rx1w7XW36B50",
        "outputId": "21d1a48c-b234-464b-e27b-9d592e52ba10"
      },
      "outputs": [
        {
          "data": {
            "text/plain": [
              "step                0\n",
              "age                 0\n",
              "amount              0\n",
              "fraud               0\n",
              "gender_encoded      0\n",
              "customer_encoded    0\n",
              "category_encoded    0\n",
              "merchant_encoded    0\n",
              "dtype: int64"
            ]
          },
          "execution_count": 42,
          "metadata": {},
          "output_type": "execute_result"
        }
      ],
      "source": [
        "df.isnull().sum()"
      ]
    },
    {
      "cell_type": "code",
      "execution_count": null,
      "metadata": {
        "id": "eqnCgmOpAMVT"
      },
      "outputs": [],
      "source": [
        "X=df.drop(['fraud'],axis=1)\n",
        "y=df['fraud']"
      ]
    },
    {
      "cell_type": "code",
      "execution_count": null,
      "metadata": {
        "id": "d-tGxWZG6B51",
        "outputId": "50c88eb7-d74a-40a6-d134-8a106439de37"
      },
      "outputs": [
        {
          "name": "stdout",
          "output_type": "stream",
          "text": [
            "0    587443\n",
            "1    587443\n",
            "Name: fraud, dtype: int64\n"
          ]
        }
      ],
      "source": [
        "sm = SMOTE(random_state=42)\n",
        "X_res, y_res = sm.fit_resample(X, y)\n",
        "\n",
        "\n",
        "y_res = pd.Series(y_res)\n",
        "print(y_res.value_counts())"
      ]
    },
    {
      "cell_type": "code",
      "execution_count": null,
      "metadata": {
        "id": "R-9VQAj9_1JI"
      },
      "outputs": [],
      "source": [
        "X_train, X_test, y_train, y_test = train_test_split(X_res, y_res, test_size=0.3, random_state=42, stratify=y_res)"
      ]
    },
    {
      "cell_type": "code",
      "execution_count": null,
      "metadata": {
        "colab": {
          "base_uri": "https://localhost:8080/"
        },
        "id": "H0MBeOBPAbmq",
        "outputId": "7606eab7-d6cf-4e14-8852-f9d5e965a1db"
      },
      "outputs": [
        {
          "data": {
            "text/plain": [
              "((822420, 7), (352466, 7), (822420,), (352466,))"
            ]
          },
          "execution_count": 46,
          "metadata": {},
          "output_type": "execute_result"
        }
      ],
      "source": [
        "X_train.shape ,X_test.shape ,y_train.shape,y_test.shape"
      ]
    },
    {
      "cell_type": "code",
      "execution_count": null,
      "metadata": {
        "id": "VeVon5QR6B53",
        "outputId": "92b23d90-803c-47a1-9dc9-886b25bc49b3"
      },
      "outputs": [
        {
          "data": {
            "text/plain": [
              "2.000000    193876\n",
              "3.000000    140474\n",
              "4.000000    103898\n",
              "5.000000     56079\n",
              "1.000000     50488\n",
              "             ...  \n",
              "1.659819         1\n",
              "1.038574         1\n",
              "1.783023         1\n",
              "3.211036         1\n",
              "3.615024         1\n",
              "Name: age, Length: 255352, dtype: int64"
            ]
          },
          "execution_count": 47,
          "metadata": {},
          "output_type": "execute_result"
        }
      ],
      "source": [
        "X_train['age'].value_counts()"
      ]
    },
    {
      "cell_type": "code",
      "execution_count": null,
      "metadata": {
        "id": "dc8khfFoA4VZ"
      },
      "outputs": [],
      "source": [
        "dtc=DecisionTreeClassifier()\n",
        "rfc=RandomForestClassifier(n_estimators=100,max_depth=8,random_state=42,verbose=1,class_weight=\"balanced\")\n",
        "gnb=GaussianNB()\n",
        "gbc=GradientBoostingClassifier()\n",
        "adc=AdaBoostClassifier()\n",
        "xgb=XGBClassifier()"
      ]
    },
    {
      "cell_type": "code",
      "execution_count": null,
      "metadata": {
        "id": "jxqBlhRS6B58",
        "outputId": "b16b6bc7-f9f3-4d5f-99c5-2d022d7ad708"
      },
      "outputs": [
        {
          "name": "stdout",
          "output_type": "stream",
          "text": [
            "DecisionTreeClassifier() ------------------------------------\n",
            "training Accuracy score \n",
            " 1.0\n",
            "==============================\n",
            "testing Accuracy score \n",
            " 0.9939483524652023\n",
            "==============================\n",
            "Confusion matrix \n",
            " [[174858    758]\n",
            " [  1375 175475]]\n",
            "==============================\n",
            "CLASSIFICATION REPORT \n",
            "               precision    recall  f1-score   support\n",
            "\n",
            "           0       0.99      1.00      0.99    175616\n",
            "           1       1.00      0.99      0.99    176850\n",
            "\n",
            "    accuracy                           0.99    352466\n",
            "   macro avg       0.99      0.99      0.99    352466\n",
            "weighted avg       0.99      0.99      0.99    352466\n",
            "\n",
            "==============================\n",
            "RandomForestClassifier(class_weight='balanced', max_depth=8, random_state=42,\n",
            "                       verbose=1) ------------------------------------\n"
          ]
        },
        {
          "name": "stderr",
          "output_type": "stream",
          "text": [
            "[Parallel(n_jobs=1)]: Using backend SequentialBackend with 1 concurrent workers.\n",
            "[Parallel(n_jobs=1)]: Done 100 out of 100 | elapsed:  3.1min finished\n",
            "[Parallel(n_jobs=1)]: Using backend SequentialBackend with 1 concurrent workers.\n",
            "[Parallel(n_jobs=1)]: Done 100 out of 100 | elapsed:   13.2s finished\n",
            "[Parallel(n_jobs=1)]: Using backend SequentialBackend with 1 concurrent workers.\n",
            "[Parallel(n_jobs=1)]: Done 100 out of 100 | elapsed:    5.5s finished\n"
          ]
        },
        {
          "name": "stdout",
          "output_type": "stream",
          "text": [
            "training Accuracy score \n",
            " 0.9802667736679556\n",
            "==============================\n",
            "testing Accuracy score \n",
            " 0.980003745042075\n",
            "==============================\n",
            "Confusion matrix \n",
            " [[170155    970]\n",
            " [  6078 175263]]\n",
            "==============================\n",
            "CLASSIFICATION REPORT \n",
            "               precision    recall  f1-score   support\n",
            "\n",
            "           0       0.97      0.99      0.98    171125\n",
            "           1       0.99      0.97      0.98    181341\n",
            "\n",
            "    accuracy                           0.98    352466\n",
            "   macro avg       0.98      0.98      0.98    352466\n",
            "weighted avg       0.98      0.98      0.98    352466\n",
            "\n",
            "==============================\n",
            "GaussianNB() ------------------------------------\n",
            "training Accuracy score \n",
            " 0.9136183458573478\n",
            "==============================\n",
            "testing Accuracy score \n",
            " 0.9131348839320672\n",
            "==============================\n",
            "Confusion matrix \n",
            " [[163362  17746]\n",
            " [ 12871 158487]]\n",
            "==============================\n",
            "CLASSIFICATION REPORT \n",
            "               precision    recall  f1-score   support\n",
            "\n",
            "           0       0.93      0.90      0.91    181108\n",
            "           1       0.90      0.92      0.91    171358\n",
            "\n",
            "    accuracy                           0.91    352466\n",
            "   macro avg       0.91      0.91      0.91    352466\n",
            "weighted avg       0.91      0.91      0.91    352466\n",
            "\n",
            "==============================\n",
            "GradientBoostingClassifier() ------------------------------------\n",
            "training Accuracy score \n",
            " 0.9814255489895674\n",
            "==============================\n",
            "testing Accuracy score \n",
            " 0.9813712528300602\n",
            "==============================\n",
            "Confusion matrix \n",
            " [[171672   2005]\n",
            " [  4561 174228]]\n",
            "==============================\n",
            "CLASSIFICATION REPORT \n",
            "               precision    recall  f1-score   support\n",
            "\n",
            "           0       0.97      0.99      0.98    173677\n",
            "           1       0.99      0.97      0.98    178789\n",
            "\n",
            "    accuracy                           0.98    352466\n",
            "   macro avg       0.98      0.98      0.98    352466\n",
            "weighted avg       0.98      0.98      0.98    352466\n",
            "\n",
            "==============================\n",
            "AdaBoostClassifier() ------------------------------------\n",
            "training Accuracy score \n",
            " 0.969943581138591\n",
            "==============================\n",
            "testing Accuracy score \n",
            " 0.9701673352890775\n",
            "==============================\n",
            "Confusion matrix \n",
            " [[171134   5416]\n",
            " [  5099 170817]]\n",
            "==============================\n",
            "CLASSIFICATION REPORT \n",
            "               precision    recall  f1-score   support\n",
            "\n",
            "           0       0.97      0.97      0.97    176550\n",
            "           1       0.97      0.97      0.97    175916\n",
            "\n",
            "    accuracy                           0.97    352466\n",
            "   macro avg       0.97      0.97      0.97    352466\n",
            "weighted avg       0.97      0.97      0.97    352466\n",
            "\n",
            "==============================\n",
            "XGBClassifier(base_score=None, booster=None, callbacks=None,\n",
            "              colsample_bylevel=None, colsample_bynode=None,\n",
            "              colsample_bytree=None, early_stopping_rounds=None,\n",
            "              enable_categorical=False, eval_metric=None, feature_types=None,\n",
            "              gamma=None, gpu_id=None, grow_policy=None, importance_type=None,\n",
            "              interaction_constraints=None, learning_rate=None, max_bin=None,\n",
            "              max_cat_threshold=None, max_cat_to_onehot=None,\n",
            "              max_delta_step=None, max_depth=None, max_leaves=None,\n",
            "              min_child_weight=None, missing=nan, monotone_constraints=None,\n",
            "              n_estimators=100, n_jobs=None, num_parallel_tree=None,\n",
            "              predictor=None, random_state=None, ...) ------------------------------------\n",
            "training Accuracy score \n",
            " 0.9968507575204884\n",
            "==============================\n",
            "testing Accuracy score \n",
            " 0.9959712426163091\n",
            "==============================\n",
            "Confusion matrix \n",
            " [[175310    497]\n",
            " [   923 175736]]\n",
            "==============================\n",
            "CLASSIFICATION REPORT \n",
            "               precision    recall  f1-score   support\n",
            "\n",
            "           0       0.99      1.00      1.00    175807\n",
            "           1       1.00      0.99      1.00    176659\n",
            "\n",
            "    accuracy                           1.00    352466\n",
            "   macro avg       1.00      1.00      1.00    352466\n",
            "weighted avg       1.00      1.00      1.00    352466\n",
            "\n",
            "==============================\n"
          ]
        }
      ],
      "source": [
        "for model in [dtc,rfc,gnb,gbc,adc,xgb]:\n",
        "    print(model,'------------------------------------')\n",
        "    abc=model.fit(X_train,y_train)\n",
        "    Y_pred_train=abc.predict(X_train)\n",
        "    Y_pred_test=abc.predict(X_test)\n",
        "    As_train=accuracy_score(Y_pred_train,y_train)\n",
        "    As_test=accuracy_score(Y_pred_test,y_test)\n",
        "    cm = confusion_matrix(Y_pred_test, y_test)\n",
        "    cr = classification_report(Y_pred_test, y_test)\n",
        "\n",
        "\n",
        "\n",
        "\n",
        "\n",
        "\n",
        "    print(\"training Accuracy score \\n\", As_train)\n",
        "    print(\"==========\"*3)\n",
        "    print(\"testing Accuracy score \\n\", As_test)\n",
        "    print(\"==========\"*3)\n",
        "    print(\"Confusion matrix \\n\", cm)\n",
        "    print(\"==========\"*3)\n",
        "    print(\"CLASSIFICATION REPORT \\n\", cr)\n",
        "    print(\"==========\"*3)"
      ]
    },
    {
      "cell_type": "code",
      "execution_count": null,
      "metadata": {
        "id": "of74V9266B5-",
        "outputId": "298f1f4c-9423-48ad-f89e-ce541f84ef96"
      },
      "outputs": [
        {
          "data": {
            "image/png": "[encoded data removed]",
            "text/plain": [
              "<Figure size 1000x600 with 1 Axes>"
            ]
          },
          "metadata": {},
          "output_type": "display_data"
        }
      ],
      "source": [
        "model_names = ['Decision Tree', 'Random Forest', 'GaussianNB', 'Gradient Boosting', 'AdaBoost', 'XGBoost']\n",
        "training_accuracies = [100.0, 98.03, 91.36, 98.14, 96.99, 99.69]\n",
        "testing_accuracies = [99.40, 98.00, 91.31, 98.14, 97.02, 99.60]\n",
        "\n",
        "\n",
        "ind = np.arange(len(model_names))\n",
        "\n",
        "\n",
        "plt.figure(figsize=(10, 6))\n",
        "width = 0.35\n",
        "\n",
        "plt.bar(ind - width/2, training_accuracies, width, label='Training Accuracy')\n",
        "plt.bar(ind + width/2, testing_accuracies, width, label='Testing Accuracy')\n",
        "\n",
        "plt.xlabel('Models')\n",
        "plt.ylabel('Accuracy (%)')\n",
        "plt.title('Training and Testing Accuracies of Different Models')\n",
        "plt.xticks(ind, model_names, rotation=45, ha='right')\n",
        "plt.legend()\n",
        "plt.tight_layout()\n",
        "\n",
        "\n",
        "plt.show()"
      ]
    }
  ],
  "metadata": {
    "colab": {
      "provenance": []
    },
    "kernelspec": {
      "display_name": "Python 3 (ipykernel)",
      "language": "python",
      "name": "python3"
    },
    "language_info": {
      "codemirror_mode": {
        "name": "ipython",
        "version": 3
      },
      "file_extension": ".py",
      "mimetype": "text/x-python",
      "name": "python",
      "nbconvert_exporter": "python",
      "pygments_lexer": "ipython3",
      "version": "3.9.13"
    }
  },
  "nbformat": 4,
  "nbformat_minor": 0
}